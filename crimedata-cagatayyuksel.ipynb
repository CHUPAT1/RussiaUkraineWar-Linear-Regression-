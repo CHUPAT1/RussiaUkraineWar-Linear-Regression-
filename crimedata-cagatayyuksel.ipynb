{
 "cells": [
  {
   "cell_type": "markdown",
   "id": "f0196bf7",
   "metadata": {
    "papermill": {
     "duration": 0.00464,
     "end_time": "2025-01-21T19:31:37.868621",
     "exception": false,
     "start_time": "2025-01-21T19:31:37.863981",
     "status": "completed"
    },
    "tags": []
   },
   "source": [
    "# AMERİKA'DA İŞLENEN SUÇLARIN ANALİZİ"
   ]
  },
  {
   "cell_type": "markdown",
   "id": "ca2915da",
   "metadata": {
    "papermill": {
     "duration": 0.00368,
     "end_time": "2025-01-21T19:31:37.876495",
     "exception": false,
     "start_time": "2025-01-21T19:31:37.872815",
     "status": "completed"
    },
    "tags": []
   },
   "source": [
    "# 1.Kütüphaneleri İçe Aktarma"
   ]
  },
  {
   "cell_type": "code",
   "execution_count": 1,
   "id": "18d0b52d",
   "metadata": {
    "_cell_guid": "b1076dfc-b9ad-4769-8c92-a6c4dae69d19",
    "_uuid": "8f2839f25d086af736a60e9eeb907d3b93b6e0e5",
    "execution": {
     "iopub.execute_input": "2025-01-21T19:31:37.885845Z",
     "iopub.status.busy": "2025-01-21T19:31:37.885474Z",
     "iopub.status.idle": "2025-01-21T19:31:40.430413Z",
     "shell.execute_reply": "2025-01-21T19:31:40.429333Z"
    },
    "papermill": {
     "duration": 2.552046,
     "end_time": "2025-01-21T19:31:40.432489",
     "exception": false,
     "start_time": "2025-01-21T19:31:37.880443",
     "status": "completed"
    },
    "tags": []
   },
   "outputs": [],
   "source": [
    "import pandas as pd\n",
    "import numpy as np\n",
    "import matplotlib.pyplot as plt\n",
    "import seaborn as sns\n",
    "import warnings\n",
    "\n",
    "#warnings.filterwarnings('ignore')"
   ]
  },
  {
   "cell_type": "markdown",
   "id": "4eefefc7",
   "metadata": {
    "papermill": {
     "duration": 0.003933,
     "end_time": "2025-01-21T19:31:40.440750",
     "exception": false,
     "start_time": "2025-01-21T19:31:40.436817",
     "status": "completed"
    },
    "tags": []
   },
   "source": [
    "# 2.Veriyi İçe Aktarma"
   ]
  },
  {
   "cell_type": "code",
   "execution_count": 2,
   "id": "9ce208b1",
   "metadata": {
    "execution": {
     "iopub.execute_input": "2025-01-21T19:31:40.450403Z",
     "iopub.status.busy": "2025-01-21T19:31:40.449857Z",
     "iopub.status.idle": "2025-01-21T19:31:40.488111Z",
     "shell.execute_reply": "2025-01-21T19:31:40.487003Z"
    },
    "papermill": {
     "duration": 0.04528,
     "end_time": "2025-01-21T19:31:40.490241",
     "exception": false,
     "start_time": "2025-01-21T19:31:40.444961",
     "status": "completed"
    },
    "tags": []
   },
   "outputs": [],
   "source": [
    "df = pd.read_csv('/kaggle/input/crime-data/crime_data.csv')"
   ]
  },
  {
   "cell_type": "markdown",
   "id": "8a0cacc3",
   "metadata": {
    "papermill": {
     "duration": 0.006354,
     "end_time": "2025-01-21T19:31:40.501949",
     "exception": false,
     "start_time": "2025-01-21T19:31:40.495595",
     "status": "completed"
    },
    "tags": []
   },
   "source": [
    "# 3.Veriyi Anlama"
   ]
  },
  {
   "cell_type": "code",
   "execution_count": 3,
   "id": "ae5c82af",
   "metadata": {
    "execution": {
     "iopub.execute_input": "2025-01-21T19:31:40.514766Z",
     "iopub.status.busy": "2025-01-21T19:31:40.514434Z",
     "iopub.status.idle": "2025-01-21T19:31:40.566107Z",
     "shell.execute_reply": "2025-01-21T19:31:40.565121Z"
    },
    "papermill": {
     "duration": 0.059252,
     "end_time": "2025-01-21T19:31:40.568115",
     "exception": false,
     "start_time": "2025-01-21T19:31:40.508863",
     "status": "completed"
    },
    "tags": []
   },
   "outputs": [
    {
     "data": {
      "text/html": [
       "<div>\n",
       "<style scoped>\n",
       "    .dataframe tbody tr th:only-of-type {\n",
       "        vertical-align: middle;\n",
       "    }\n",
       "\n",
       "    .dataframe tbody tr th {\n",
       "        vertical-align: top;\n",
       "    }\n",
       "\n",
       "    .dataframe thead th {\n",
       "        text-align: right;\n",
       "    }\n",
       "</style>\n",
       "<table border=\"1\" class=\"dataframe\">\n",
       "  <thead>\n",
       "    <tr style=\"text-align: right;\">\n",
       "      <th></th>\n",
       "      <th>Disposition</th>\n",
       "      <th>OffenderStatus</th>\n",
       "      <th>Offender_Race</th>\n",
       "      <th>Offender_Gender</th>\n",
       "      <th>Offender_Age</th>\n",
       "      <th>PersonType</th>\n",
       "      <th>Victim_Race</th>\n",
       "      <th>Victim_Gender</th>\n",
       "      <th>Victim_Age</th>\n",
       "      <th>Victim_Fatal_Status</th>\n",
       "      <th>Report Type</th>\n",
       "      <th>Category</th>\n",
       "    </tr>\n",
       "  </thead>\n",
       "  <tbody>\n",
       "    <tr>\n",
       "      <th>0</th>\n",
       "      <td>CLOSED</td>\n",
       "      <td>ARRESTED</td>\n",
       "      <td>BLACK</td>\n",
       "      <td>MALE</td>\n",
       "      <td>30.0</td>\n",
       "      <td>VICTIM</td>\n",
       "      <td>BLACK</td>\n",
       "      <td>FEMALE</td>\n",
       "      <td>29.0</td>\n",
       "      <td>Non-fatal</td>\n",
       "      <td>Supplemental Report</td>\n",
       "      <td>Theft</td>\n",
       "    </tr>\n",
       "    <tr>\n",
       "      <th>1</th>\n",
       "      <td>CLOSED</td>\n",
       "      <td>ARRESTED</td>\n",
       "      <td>BLACK</td>\n",
       "      <td>MALE</td>\n",
       "      <td>30.0</td>\n",
       "      <td>VICTIM</td>\n",
       "      <td>BLACK</td>\n",
       "      <td>FEMALE</td>\n",
       "      <td>29.0</td>\n",
       "      <td>Non-fatal</td>\n",
       "      <td>Supplemental Report</td>\n",
       "      <td>Theft</td>\n",
       "    </tr>\n",
       "    <tr>\n",
       "      <th>2</th>\n",
       "      <td>CLOSED</td>\n",
       "      <td>ARRESTED</td>\n",
       "      <td>BLACK</td>\n",
       "      <td>MALE</td>\n",
       "      <td>30.0</td>\n",
       "      <td>VICTIM</td>\n",
       "      <td>BLACK</td>\n",
       "      <td>FEMALE</td>\n",
       "      <td>29.0</td>\n",
       "      <td>Non-fatal</td>\n",
       "      <td>Supplemental Report</td>\n",
       "      <td>Theft</td>\n",
       "    </tr>\n",
       "    <tr>\n",
       "      <th>3</th>\n",
       "      <td>CLOSED</td>\n",
       "      <td>ARRESTED</td>\n",
       "      <td>BLACK</td>\n",
       "      <td>MALE</td>\n",
       "      <td>30.0</td>\n",
       "      <td>VICTIM</td>\n",
       "      <td>BLACK</td>\n",
       "      <td>FEMALE</td>\n",
       "      <td>29.0</td>\n",
       "      <td>Non-fatal</td>\n",
       "      <td>Supplemental Report</td>\n",
       "      <td>Theft</td>\n",
       "    </tr>\n",
       "    <tr>\n",
       "      <th>4</th>\n",
       "      <td>CLOSED</td>\n",
       "      <td>ARRESTED</td>\n",
       "      <td>BLACK</td>\n",
       "      <td>MALE</td>\n",
       "      <td>30.0</td>\n",
       "      <td>VICTIM</td>\n",
       "      <td>BLACK</td>\n",
       "      <td>FEMALE</td>\n",
       "      <td>29.0</td>\n",
       "      <td>Non-fatal</td>\n",
       "      <td>Supplemental Report</td>\n",
       "      <td>Theft</td>\n",
       "    </tr>\n",
       "    <tr>\n",
       "      <th>...</th>\n",
       "      <td>...</td>\n",
       "      <td>...</td>\n",
       "      <td>...</td>\n",
       "      <td>...</td>\n",
       "      <td>...</td>\n",
       "      <td>...</td>\n",
       "      <td>...</td>\n",
       "      <td>...</td>\n",
       "      <td>...</td>\n",
       "      <td>...</td>\n",
       "      <td>...</td>\n",
       "      <td>...</td>\n",
       "    </tr>\n",
       "    <tr>\n",
       "      <th>6633</th>\n",
       "      <td>CLOSED</td>\n",
       "      <td>ARRESTED</td>\n",
       "      <td>BLACK</td>\n",
       "      <td>FEMALE</td>\n",
       "      <td>30.0</td>\n",
       "      <td>VICTIM</td>\n",
       "      <td>WHITE</td>\n",
       "      <td>MALE</td>\n",
       "      <td>34.0</td>\n",
       "      <td>Non-fatal</td>\n",
       "      <td>Supplemental Report</td>\n",
       "      <td>Theft</td>\n",
       "    </tr>\n",
       "    <tr>\n",
       "      <th>6634</th>\n",
       "      <td>CLOSED</td>\n",
       "      <td>ARRESTED</td>\n",
       "      <td>WHITE</td>\n",
       "      <td>FEMALE</td>\n",
       "      <td>20.0</td>\n",
       "      <td>VICTIM</td>\n",
       "      <td>WHITE</td>\n",
       "      <td>MALE</td>\n",
       "      <td>34.0</td>\n",
       "      <td>Non-fatal</td>\n",
       "      <td>Supplemental Report</td>\n",
       "      <td>Theft</td>\n",
       "    </tr>\n",
       "    <tr>\n",
       "      <th>6635</th>\n",
       "      <td>CLOSED</td>\n",
       "      <td>ARRESTED</td>\n",
       "      <td>BLACK</td>\n",
       "      <td>FEMALE</td>\n",
       "      <td>26.0</td>\n",
       "      <td>VICTIM</td>\n",
       "      <td>BLACK</td>\n",
       "      <td>FEMALE</td>\n",
       "      <td>34.0</td>\n",
       "      <td>Non-fatal</td>\n",
       "      <td>Supplemental Report</td>\n",
       "      <td>Violence</td>\n",
       "    </tr>\n",
       "    <tr>\n",
       "      <th>6636</th>\n",
       "      <td>CLOSED</td>\n",
       "      <td>ARRESTED</td>\n",
       "      <td>WHITE</td>\n",
       "      <td>MALE</td>\n",
       "      <td>38.0</td>\n",
       "      <td>VICTIM</td>\n",
       "      <td>UNKNOWN</td>\n",
       "      <td>MALE</td>\n",
       "      <td>31.0</td>\n",
       "      <td>Non-fatal</td>\n",
       "      <td>Supplemental Report</td>\n",
       "      <td>Violence</td>\n",
       "    </tr>\n",
       "    <tr>\n",
       "      <th>6637</th>\n",
       "      <td>CLOSED</td>\n",
       "      <td>ARRESTED</td>\n",
       "      <td>WHITE</td>\n",
       "      <td>MALE</td>\n",
       "      <td>38.0</td>\n",
       "      <td>VICTIM</td>\n",
       "      <td>UNKNOWN</td>\n",
       "      <td>MALE</td>\n",
       "      <td>25.0</td>\n",
       "      <td>Non-fatal</td>\n",
       "      <td>Supplemental Report</td>\n",
       "      <td>Violence</td>\n",
       "    </tr>\n",
       "  </tbody>\n",
       "</table>\n",
       "<p>6638 rows × 12 columns</p>\n",
       "</div>"
      ],
      "text/plain": [
       "     Disposition OffenderStatus Offender_Race Offender_Gender  Offender_Age  \\\n",
       "0         CLOSED       ARRESTED         BLACK            MALE          30.0   \n",
       "1         CLOSED       ARRESTED         BLACK            MALE          30.0   \n",
       "2         CLOSED       ARRESTED         BLACK            MALE          30.0   \n",
       "3         CLOSED       ARRESTED         BLACK            MALE          30.0   \n",
       "4         CLOSED       ARRESTED         BLACK            MALE          30.0   \n",
       "...          ...            ...           ...             ...           ...   \n",
       "6633      CLOSED       ARRESTED         BLACK          FEMALE          30.0   \n",
       "6634      CLOSED       ARRESTED         WHITE          FEMALE          20.0   \n",
       "6635      CLOSED       ARRESTED         BLACK          FEMALE          26.0   \n",
       "6636      CLOSED       ARRESTED         WHITE            MALE          38.0   \n",
       "6637      CLOSED       ARRESTED         WHITE            MALE          38.0   \n",
       "\n",
       "     PersonType Victim_Race Victim_Gender  Victim_Age Victim_Fatal_Status  \\\n",
       "0        VICTIM       BLACK        FEMALE        29.0           Non-fatal   \n",
       "1        VICTIM       BLACK        FEMALE        29.0           Non-fatal   \n",
       "2        VICTIM       BLACK        FEMALE        29.0           Non-fatal   \n",
       "3        VICTIM       BLACK        FEMALE        29.0           Non-fatal   \n",
       "4        VICTIM       BLACK        FEMALE        29.0           Non-fatal   \n",
       "...         ...         ...           ...         ...                 ...   \n",
       "6633     VICTIM       WHITE          MALE        34.0           Non-fatal   \n",
       "6634     VICTIM       WHITE          MALE        34.0           Non-fatal   \n",
       "6635     VICTIM       BLACK        FEMALE        34.0           Non-fatal   \n",
       "6636     VICTIM     UNKNOWN          MALE        31.0           Non-fatal   \n",
       "6637     VICTIM     UNKNOWN          MALE        25.0           Non-fatal   \n",
       "\n",
       "              Report Type  Category  \n",
       "0     Supplemental Report     Theft  \n",
       "1     Supplemental Report     Theft  \n",
       "2     Supplemental Report     Theft  \n",
       "3     Supplemental Report     Theft  \n",
       "4     Supplemental Report     Theft  \n",
       "...                   ...       ...  \n",
       "6633  Supplemental Report     Theft  \n",
       "6634  Supplemental Report     Theft  \n",
       "6635  Supplemental Report  Violence  \n",
       "6636  Supplemental Report  Violence  \n",
       "6637  Supplemental Report  Violence  \n",
       "\n",
       "[6638 rows x 12 columns]"
      ]
     },
     "execution_count": 3,
     "metadata": {},
     "output_type": "execute_result"
    }
   ],
   "source": [
    "df.replace([np.inf, -np.inf], np.nan)"
   ]
  },
  {
   "cell_type": "code",
   "execution_count": 4,
   "id": "bef24fa4",
   "metadata": {
    "execution": {
     "iopub.execute_input": "2025-01-21T19:31:40.585066Z",
     "iopub.status.busy": "2025-01-21T19:31:40.584672Z",
     "iopub.status.idle": "2025-01-21T19:31:40.606252Z",
     "shell.execute_reply": "2025-01-21T19:31:40.605005Z"
    },
    "papermill": {
     "duration": 0.031557,
     "end_time": "2025-01-21T19:31:40.608067",
     "exception": false,
     "start_time": "2025-01-21T19:31:40.576510",
     "status": "completed"
    },
    "tags": []
   },
   "outputs": [
    {
     "data": {
      "text/html": [
       "<div>\n",
       "<style scoped>\n",
       "    .dataframe tbody tr th:only-of-type {\n",
       "        vertical-align: middle;\n",
       "    }\n",
       "\n",
       "    .dataframe tbody tr th {\n",
       "        vertical-align: top;\n",
       "    }\n",
       "\n",
       "    .dataframe thead th {\n",
       "        text-align: right;\n",
       "    }\n",
       "</style>\n",
       "<table border=\"1\" class=\"dataframe\">\n",
       "  <thead>\n",
       "    <tr style=\"text-align: right;\">\n",
       "      <th></th>\n",
       "      <th>Disposition</th>\n",
       "      <th>OffenderStatus</th>\n",
       "      <th>Offender_Race</th>\n",
       "      <th>Offender_Gender</th>\n",
       "      <th>Offender_Age</th>\n",
       "      <th>PersonType</th>\n",
       "      <th>Victim_Race</th>\n",
       "      <th>Victim_Gender</th>\n",
       "      <th>Victim_Age</th>\n",
       "      <th>Victim_Fatal_Status</th>\n",
       "      <th>Report Type</th>\n",
       "      <th>Category</th>\n",
       "    </tr>\n",
       "  </thead>\n",
       "  <tbody>\n",
       "    <tr>\n",
       "      <th>0</th>\n",
       "      <td>False</td>\n",
       "      <td>False</td>\n",
       "      <td>False</td>\n",
       "      <td>False</td>\n",
       "      <td>False</td>\n",
       "      <td>False</td>\n",
       "      <td>False</td>\n",
       "      <td>False</td>\n",
       "      <td>False</td>\n",
       "      <td>False</td>\n",
       "      <td>False</td>\n",
       "      <td>False</td>\n",
       "    </tr>\n",
       "    <tr>\n",
       "      <th>1</th>\n",
       "      <td>False</td>\n",
       "      <td>False</td>\n",
       "      <td>False</td>\n",
       "      <td>False</td>\n",
       "      <td>False</td>\n",
       "      <td>False</td>\n",
       "      <td>False</td>\n",
       "      <td>False</td>\n",
       "      <td>False</td>\n",
       "      <td>False</td>\n",
       "      <td>False</td>\n",
       "      <td>False</td>\n",
       "    </tr>\n",
       "    <tr>\n",
       "      <th>2</th>\n",
       "      <td>False</td>\n",
       "      <td>False</td>\n",
       "      <td>False</td>\n",
       "      <td>False</td>\n",
       "      <td>False</td>\n",
       "      <td>False</td>\n",
       "      <td>False</td>\n",
       "      <td>False</td>\n",
       "      <td>False</td>\n",
       "      <td>False</td>\n",
       "      <td>False</td>\n",
       "      <td>False</td>\n",
       "    </tr>\n",
       "    <tr>\n",
       "      <th>3</th>\n",
       "      <td>False</td>\n",
       "      <td>False</td>\n",
       "      <td>False</td>\n",
       "      <td>False</td>\n",
       "      <td>False</td>\n",
       "      <td>False</td>\n",
       "      <td>False</td>\n",
       "      <td>False</td>\n",
       "      <td>False</td>\n",
       "      <td>False</td>\n",
       "      <td>False</td>\n",
       "      <td>False</td>\n",
       "    </tr>\n",
       "    <tr>\n",
       "      <th>4</th>\n",
       "      <td>False</td>\n",
       "      <td>False</td>\n",
       "      <td>False</td>\n",
       "      <td>False</td>\n",
       "      <td>False</td>\n",
       "      <td>False</td>\n",
       "      <td>False</td>\n",
       "      <td>False</td>\n",
       "      <td>False</td>\n",
       "      <td>False</td>\n",
       "      <td>False</td>\n",
       "      <td>False</td>\n",
       "    </tr>\n",
       "    <tr>\n",
       "      <th>...</th>\n",
       "      <td>...</td>\n",
       "      <td>...</td>\n",
       "      <td>...</td>\n",
       "      <td>...</td>\n",
       "      <td>...</td>\n",
       "      <td>...</td>\n",
       "      <td>...</td>\n",
       "      <td>...</td>\n",
       "      <td>...</td>\n",
       "      <td>...</td>\n",
       "      <td>...</td>\n",
       "      <td>...</td>\n",
       "    </tr>\n",
       "    <tr>\n",
       "      <th>6633</th>\n",
       "      <td>False</td>\n",
       "      <td>False</td>\n",
       "      <td>False</td>\n",
       "      <td>False</td>\n",
       "      <td>False</td>\n",
       "      <td>False</td>\n",
       "      <td>False</td>\n",
       "      <td>False</td>\n",
       "      <td>False</td>\n",
       "      <td>False</td>\n",
       "      <td>False</td>\n",
       "      <td>False</td>\n",
       "    </tr>\n",
       "    <tr>\n",
       "      <th>6634</th>\n",
       "      <td>False</td>\n",
       "      <td>False</td>\n",
       "      <td>False</td>\n",
       "      <td>False</td>\n",
       "      <td>False</td>\n",
       "      <td>False</td>\n",
       "      <td>False</td>\n",
       "      <td>False</td>\n",
       "      <td>False</td>\n",
       "      <td>False</td>\n",
       "      <td>False</td>\n",
       "      <td>False</td>\n",
       "    </tr>\n",
       "    <tr>\n",
       "      <th>6635</th>\n",
       "      <td>False</td>\n",
       "      <td>False</td>\n",
       "      <td>False</td>\n",
       "      <td>False</td>\n",
       "      <td>False</td>\n",
       "      <td>False</td>\n",
       "      <td>False</td>\n",
       "      <td>False</td>\n",
       "      <td>False</td>\n",
       "      <td>False</td>\n",
       "      <td>False</td>\n",
       "      <td>False</td>\n",
       "    </tr>\n",
       "    <tr>\n",
       "      <th>6636</th>\n",
       "      <td>False</td>\n",
       "      <td>False</td>\n",
       "      <td>False</td>\n",
       "      <td>False</td>\n",
       "      <td>False</td>\n",
       "      <td>False</td>\n",
       "      <td>False</td>\n",
       "      <td>False</td>\n",
       "      <td>False</td>\n",
       "      <td>False</td>\n",
       "      <td>False</td>\n",
       "      <td>False</td>\n",
       "    </tr>\n",
       "    <tr>\n",
       "      <th>6637</th>\n",
       "      <td>False</td>\n",
       "      <td>False</td>\n",
       "      <td>False</td>\n",
       "      <td>False</td>\n",
       "      <td>False</td>\n",
       "      <td>False</td>\n",
       "      <td>False</td>\n",
       "      <td>False</td>\n",
       "      <td>False</td>\n",
       "      <td>False</td>\n",
       "      <td>False</td>\n",
       "      <td>False</td>\n",
       "    </tr>\n",
       "  </tbody>\n",
       "</table>\n",
       "<p>6638 rows × 12 columns</p>\n",
       "</div>"
      ],
      "text/plain": [
       "      Disposition  OffenderStatus  Offender_Race  Offender_Gender  \\\n",
       "0           False           False          False            False   \n",
       "1           False           False          False            False   \n",
       "2           False           False          False            False   \n",
       "3           False           False          False            False   \n",
       "4           False           False          False            False   \n",
       "...           ...             ...            ...              ...   \n",
       "6633        False           False          False            False   \n",
       "6634        False           False          False            False   \n",
       "6635        False           False          False            False   \n",
       "6636        False           False          False            False   \n",
       "6637        False           False          False            False   \n",
       "\n",
       "      Offender_Age  PersonType  Victim_Race  Victim_Gender  Victim_Age  \\\n",
       "0            False       False        False          False       False   \n",
       "1            False       False        False          False       False   \n",
       "2            False       False        False          False       False   \n",
       "3            False       False        False          False       False   \n",
       "4            False       False        False          False       False   \n",
       "...            ...         ...          ...            ...         ...   \n",
       "6633         False       False        False          False       False   \n",
       "6634         False       False        False          False       False   \n",
       "6635         False       False        False          False       False   \n",
       "6636         False       False        False          False       False   \n",
       "6637         False       False        False          False       False   \n",
       "\n",
       "      Victim_Fatal_Status  Report Type  Category  \n",
       "0                   False        False     False  \n",
       "1                   False        False     False  \n",
       "2                   False        False     False  \n",
       "3                   False        False     False  \n",
       "4                   False        False     False  \n",
       "...                   ...          ...       ...  \n",
       "6633                False        False     False  \n",
       "6634                False        False     False  \n",
       "6635                False        False     False  \n",
       "6636                False        False     False  \n",
       "6637                False        False     False  \n",
       "\n",
       "[6638 rows x 12 columns]"
      ]
     },
     "execution_count": 4,
     "metadata": {},
     "output_type": "execute_result"
    }
   ],
   "source": [
    "df.isna()\n"
   ]
  },
  {
   "cell_type": "code",
   "execution_count": 5,
   "id": "99f7ee10",
   "metadata": {
    "execution": {
     "iopub.execute_input": "2025-01-21T19:31:40.619338Z",
     "iopub.status.busy": "2025-01-21T19:31:40.618828Z",
     "iopub.status.idle": "2025-01-21T19:31:40.644304Z",
     "shell.execute_reply": "2025-01-21T19:31:40.643116Z"
    },
    "papermill": {
     "duration": 0.032849,
     "end_time": "2025-01-21T19:31:40.645974",
     "exception": false,
     "start_time": "2025-01-21T19:31:40.613125",
     "status": "completed"
    },
    "tags": []
   },
   "outputs": [
    {
     "data": {
      "text/html": [
       "<div>\n",
       "<style scoped>\n",
       "    .dataframe tbody tr th:only-of-type {\n",
       "        vertical-align: middle;\n",
       "    }\n",
       "\n",
       "    .dataframe tbody tr th {\n",
       "        vertical-align: top;\n",
       "    }\n",
       "\n",
       "    .dataframe thead th {\n",
       "        text-align: right;\n",
       "    }\n",
       "</style>\n",
       "<table border=\"1\" class=\"dataframe\">\n",
       "  <thead>\n",
       "    <tr style=\"text-align: right;\">\n",
       "      <th></th>\n",
       "      <th>Disposition</th>\n",
       "      <th>OffenderStatus</th>\n",
       "      <th>Offender_Race</th>\n",
       "      <th>Offender_Gender</th>\n",
       "      <th>Offender_Age</th>\n",
       "      <th>PersonType</th>\n",
       "      <th>Victim_Race</th>\n",
       "      <th>Victim_Gender</th>\n",
       "      <th>Victim_Age</th>\n",
       "      <th>Victim_Fatal_Status</th>\n",
       "      <th>Report Type</th>\n",
       "      <th>Category</th>\n",
       "    </tr>\n",
       "  </thead>\n",
       "  <tbody>\n",
       "    <tr>\n",
       "      <th>0</th>\n",
       "      <td>CLOSED</td>\n",
       "      <td>ARRESTED</td>\n",
       "      <td>BLACK</td>\n",
       "      <td>MALE</td>\n",
       "      <td>30.0</td>\n",
       "      <td>VICTIM</td>\n",
       "      <td>BLACK</td>\n",
       "      <td>FEMALE</td>\n",
       "      <td>29.0</td>\n",
       "      <td>Non-fatal</td>\n",
       "      <td>Supplemental Report</td>\n",
       "      <td>Theft</td>\n",
       "    </tr>\n",
       "    <tr>\n",
       "      <th>1</th>\n",
       "      <td>CLOSED</td>\n",
       "      <td>ARRESTED</td>\n",
       "      <td>BLACK</td>\n",
       "      <td>MALE</td>\n",
       "      <td>30.0</td>\n",
       "      <td>VICTIM</td>\n",
       "      <td>BLACK</td>\n",
       "      <td>FEMALE</td>\n",
       "      <td>29.0</td>\n",
       "      <td>Non-fatal</td>\n",
       "      <td>Supplemental Report</td>\n",
       "      <td>Theft</td>\n",
       "    </tr>\n",
       "    <tr>\n",
       "      <th>2</th>\n",
       "      <td>CLOSED</td>\n",
       "      <td>ARRESTED</td>\n",
       "      <td>BLACK</td>\n",
       "      <td>MALE</td>\n",
       "      <td>30.0</td>\n",
       "      <td>VICTIM</td>\n",
       "      <td>BLACK</td>\n",
       "      <td>FEMALE</td>\n",
       "      <td>29.0</td>\n",
       "      <td>Non-fatal</td>\n",
       "      <td>Supplemental Report</td>\n",
       "      <td>Theft</td>\n",
       "    </tr>\n",
       "    <tr>\n",
       "      <th>3</th>\n",
       "      <td>CLOSED</td>\n",
       "      <td>ARRESTED</td>\n",
       "      <td>BLACK</td>\n",
       "      <td>MALE</td>\n",
       "      <td>30.0</td>\n",
       "      <td>VICTIM</td>\n",
       "      <td>BLACK</td>\n",
       "      <td>FEMALE</td>\n",
       "      <td>29.0</td>\n",
       "      <td>Non-fatal</td>\n",
       "      <td>Supplemental Report</td>\n",
       "      <td>Theft</td>\n",
       "    </tr>\n",
       "    <tr>\n",
       "      <th>4</th>\n",
       "      <td>CLOSED</td>\n",
       "      <td>ARRESTED</td>\n",
       "      <td>BLACK</td>\n",
       "      <td>MALE</td>\n",
       "      <td>30.0</td>\n",
       "      <td>VICTIM</td>\n",
       "      <td>BLACK</td>\n",
       "      <td>FEMALE</td>\n",
       "      <td>29.0</td>\n",
       "      <td>Non-fatal</td>\n",
       "      <td>Supplemental Report</td>\n",
       "      <td>Theft</td>\n",
       "    </tr>\n",
       "    <tr>\n",
       "      <th>...</th>\n",
       "      <td>...</td>\n",
       "      <td>...</td>\n",
       "      <td>...</td>\n",
       "      <td>...</td>\n",
       "      <td>...</td>\n",
       "      <td>...</td>\n",
       "      <td>...</td>\n",
       "      <td>...</td>\n",
       "      <td>...</td>\n",
       "      <td>...</td>\n",
       "      <td>...</td>\n",
       "      <td>...</td>\n",
       "    </tr>\n",
       "    <tr>\n",
       "      <th>195</th>\n",
       "      <td>CLOSED</td>\n",
       "      <td>ARRESTED</td>\n",
       "      <td>BLACK</td>\n",
       "      <td>MALE</td>\n",
       "      <td>15.0</td>\n",
       "      <td>VICTIM</td>\n",
       "      <td>WHITE</td>\n",
       "      <td>FEMALE</td>\n",
       "      <td>24.0</td>\n",
       "      <td>Non-fatal</td>\n",
       "      <td>Supplemental Report</td>\n",
       "      <td>Theft</td>\n",
       "    </tr>\n",
       "    <tr>\n",
       "      <th>196</th>\n",
       "      <td>CLOSED</td>\n",
       "      <td>ARRESTED</td>\n",
       "      <td>BLACK</td>\n",
       "      <td>MALE</td>\n",
       "      <td>54.0</td>\n",
       "      <td>VICTIM</td>\n",
       "      <td>BLACK</td>\n",
       "      <td>FEMALE</td>\n",
       "      <td>28.0</td>\n",
       "      <td>Non-fatal</td>\n",
       "      <td>Supplemental Report</td>\n",
       "      <td>Theft</td>\n",
       "    </tr>\n",
       "    <tr>\n",
       "      <th>197</th>\n",
       "      <td>CLOSED</td>\n",
       "      <td>ARRESTED</td>\n",
       "      <td>WHITE</td>\n",
       "      <td>MALE</td>\n",
       "      <td>45.0</td>\n",
       "      <td>VICTIM</td>\n",
       "      <td>BLACK</td>\n",
       "      <td>MALE</td>\n",
       "      <td>35.0</td>\n",
       "      <td>Non-fatal</td>\n",
       "      <td>Supplemental Report</td>\n",
       "      <td>Theft</td>\n",
       "    </tr>\n",
       "    <tr>\n",
       "      <th>198</th>\n",
       "      <td>CLOSED</td>\n",
       "      <td>ARRESTED</td>\n",
       "      <td>BLACK</td>\n",
       "      <td>MALE</td>\n",
       "      <td>48.0</td>\n",
       "      <td>VICTIM</td>\n",
       "      <td>BLACK</td>\n",
       "      <td>FEMALE</td>\n",
       "      <td>41.0</td>\n",
       "      <td>Non-fatal</td>\n",
       "      <td>Incident Report</td>\n",
       "      <td>Violence</td>\n",
       "    </tr>\n",
       "    <tr>\n",
       "      <th>199</th>\n",
       "      <td>CLOSED</td>\n",
       "      <td>ARRESTED</td>\n",
       "      <td>WHITE</td>\n",
       "      <td>FEMALE</td>\n",
       "      <td>56.0</td>\n",
       "      <td>VICTIM</td>\n",
       "      <td>WHITE</td>\n",
       "      <td>MALE</td>\n",
       "      <td>48.0</td>\n",
       "      <td>Non-fatal</td>\n",
       "      <td>Incident Report</td>\n",
       "      <td>Violence</td>\n",
       "    </tr>\n",
       "  </tbody>\n",
       "</table>\n",
       "<p>200 rows × 12 columns</p>\n",
       "</div>"
      ],
      "text/plain": [
       "    Disposition OffenderStatus Offender_Race Offender_Gender  Offender_Age  \\\n",
       "0        CLOSED       ARRESTED         BLACK            MALE          30.0   \n",
       "1        CLOSED       ARRESTED         BLACK            MALE          30.0   \n",
       "2        CLOSED       ARRESTED         BLACK            MALE          30.0   \n",
       "3        CLOSED       ARRESTED         BLACK            MALE          30.0   \n",
       "4        CLOSED       ARRESTED         BLACK            MALE          30.0   \n",
       "..          ...            ...           ...             ...           ...   \n",
       "195      CLOSED       ARRESTED         BLACK            MALE          15.0   \n",
       "196      CLOSED       ARRESTED         BLACK            MALE          54.0   \n",
       "197      CLOSED       ARRESTED         WHITE            MALE          45.0   \n",
       "198      CLOSED       ARRESTED         BLACK            MALE          48.0   \n",
       "199      CLOSED       ARRESTED         WHITE          FEMALE          56.0   \n",
       "\n",
       "    PersonType Victim_Race Victim_Gender  Victim_Age Victim_Fatal_Status  \\\n",
       "0       VICTIM       BLACK        FEMALE        29.0           Non-fatal   \n",
       "1       VICTIM       BLACK        FEMALE        29.0           Non-fatal   \n",
       "2       VICTIM       BLACK        FEMALE        29.0           Non-fatal   \n",
       "3       VICTIM       BLACK        FEMALE        29.0           Non-fatal   \n",
       "4       VICTIM       BLACK        FEMALE        29.0           Non-fatal   \n",
       "..         ...         ...           ...         ...                 ...   \n",
       "195     VICTIM       WHITE        FEMALE        24.0           Non-fatal   \n",
       "196     VICTIM       BLACK        FEMALE        28.0           Non-fatal   \n",
       "197     VICTIM       BLACK          MALE        35.0           Non-fatal   \n",
       "198     VICTIM       BLACK        FEMALE        41.0           Non-fatal   \n",
       "199     VICTIM       WHITE          MALE        48.0           Non-fatal   \n",
       "\n",
       "             Report Type  Category  \n",
       "0    Supplemental Report     Theft  \n",
       "1    Supplemental Report     Theft  \n",
       "2    Supplemental Report     Theft  \n",
       "3    Supplemental Report     Theft  \n",
       "4    Supplemental Report     Theft  \n",
       "..                   ...       ...  \n",
       "195  Supplemental Report     Theft  \n",
       "196  Supplemental Report     Theft  \n",
       "197  Supplemental Report     Theft  \n",
       "198      Incident Report  Violence  \n",
       "199      Incident Report  Violence  \n",
       "\n",
       "[200 rows x 12 columns]"
      ]
     },
     "execution_count": 5,
     "metadata": {},
     "output_type": "execute_result"
    }
   ],
   "source": [
    "df.head(200)"
   ]
  },
  {
   "cell_type": "markdown",
   "id": "4098a24c",
   "metadata": {
    "papermill": {
     "duration": 0.005098,
     "end_time": "2025-01-21T19:31:40.656614",
     "exception": false,
     "start_time": "2025-01-21T19:31:40.651516",
     "status": "completed"
    },
    "tags": []
   },
   "source": [
    "# 4.Veriyi Analiz Etme"
   ]
  },
  {
   "cell_type": "code",
   "execution_count": 6,
   "id": "22f593fa",
   "metadata": {
    "execution": {
     "iopub.execute_input": "2025-01-21T19:31:40.668583Z",
     "iopub.status.busy": "2025-01-21T19:31:40.668127Z",
     "iopub.status.idle": "2025-01-21T19:31:40.933328Z",
     "shell.execute_reply": "2025-01-21T19:31:40.932178Z"
    },
    "papermill": {
     "duration": 0.273271,
     "end_time": "2025-01-21T19:31:40.935145",
     "exception": false,
     "start_time": "2025-01-21T19:31:40.661874",
     "status": "completed"
    },
    "tags": []
   },
   "outputs": [
    {
     "data": {
      "image/png": "[encoded data removed]",
      "text/plain": [
       "<Figure size 1400x700 with 1 Axes>"
      ]
     },
     "metadata": {},
     "output_type": "display_data"
    }
   ],
   "source": [
    "plt.figure(figsize = (14,7))\n",
    "plt.hist(df['Offender_Race'])\n",
    "plt.xlabel = 'Irk'\n",
    "plt.show()"
   ]
  },
  {
   "cell_type": "code",
   "execution_count": 7,
   "id": "0e4aad7a",
   "metadata": {
    "execution": {
     "iopub.execute_input": "2025-01-21T19:31:40.948495Z",
     "iopub.status.busy": "2025-01-21T19:31:40.948013Z",
     "iopub.status.idle": "2025-01-21T19:31:41.232158Z",
     "shell.execute_reply": "2025-01-21T19:31:41.231033Z"
    },
    "papermill": {
     "duration": 0.292869,
     "end_time": "2025-01-21T19:31:41.234027",
     "exception": false,
     "start_time": "2025-01-21T19:31:40.941158",
     "status": "completed"
    },
    "tags": []
   },
   "outputs": [
    {
     "data": {
      "image/png": "[encoded data removed]",
      "text/plain": [
       "<Figure size 1000x600 with 1 Axes>"
      ]
     },
     "metadata": {},
     "output_type": "display_data"
    }
   ],
   "source": [
    "df['Offender_Race'].value_counts(normalize=True).plot.pie(autopct='%.1f %%', ylabel='Irk', legend = True, labels = None, figsize = (10,6))\n",
    "plt.legend(bbox_to_anchor=(1.0, 1.0), fontsize='small', labels = ['BLACK','WHITE','OTHERS','OTHERS'])\n",
    "plt.tight_layout()\n",
    "plt.show()"
   ]
  },
  {
   "cell_type": "markdown",
   "id": "8d7f7786",
   "metadata": {
    "papermill": {
     "duration": 0.006117,
     "end_time": "2025-01-21T19:31:41.246692",
     "exception": false,
     "start_time": "2025-01-21T19:31:41.240575",
     "status": "completed"
    },
    "tags": []
   },
   "source": [
    "# * Suç işleyenlerin %82'sinin siyahi olduğunu öğrendik."
   ]
  },
  {
   "cell_type": "code",
   "execution_count": 8,
   "id": "8fbc9319",
   "metadata": {
    "execution": {
     "iopub.execute_input": "2025-01-21T19:31:41.261235Z",
     "iopub.status.busy": "2025-01-21T19:31:41.260830Z",
     "iopub.status.idle": "2025-01-21T19:31:41.409228Z",
     "shell.execute_reply": "2025-01-21T19:31:41.408049Z"
    },
    "papermill": {
     "duration": 0.157568,
     "end_time": "2025-01-21T19:31:41.411044",
     "exception": false,
     "start_time": "2025-01-21T19:31:41.253476",
     "status": "completed"
    },
    "tags": []
   },
   "outputs": [
    {
     "data": {
      "image/png": "[encoded data removed]",
      "text/plain": [
       "<Figure size 1000x600 with 1 Axes>"
      ]
     },
     "metadata": {},
     "output_type": "display_data"
    }
   ],
   "source": [
    "df['Offender_Gender'].value_counts(normalize=True).plot.pie(autopct='%.1f %%', ylabel='Cinsiyet', legend = True, labels = None, figsize = (10,6))\n",
    "plt.legend(bbox_to_anchor=(1.0, 1.0), fontsize='small', labels = ['MALE','FEMALE'])\n",
    "plt.tight_layout()\n",
    "plt.show()"
   ]
  },
  {
   "cell_type": "markdown",
   "id": "49a612f9",
   "metadata": {
    "papermill": {
     "duration": 0.006791,
     "end_time": "2025-01-21T19:31:41.425036",
     "exception": false,
     "start_time": "2025-01-21T19:31:41.418245",
     "status": "completed"
    },
    "tags": []
   },
   "source": [
    "# * Suç işleyenlerin %75'inin Erkek olduğunu öğrendik."
   ]
  },
  {
   "cell_type": "code",
   "execution_count": 9,
   "id": "15100420",
   "metadata": {
    "execution": {
     "iopub.execute_input": "2025-01-21T19:31:41.440498Z",
     "iopub.status.busy": "2025-01-21T19:31:41.440008Z",
     "iopub.status.idle": "2025-01-21T19:31:41.734959Z",
     "shell.execute_reply": "2025-01-21T19:31:41.733679Z"
    },
    "papermill": {
     "duration": 0.304938,
     "end_time": "2025-01-21T19:31:41.736915",
     "exception": false,
     "start_time": "2025-01-21T19:31:41.431977",
     "status": "completed"
    },
    "tags": []
   },
   "outputs": [
    {
     "name": "stderr",
     "output_type": "stream",
     "text": [
      "/usr/local/lib/python3.10/dist-packages/seaborn/_oldcore.py:1119: FutureWarning: use_inf_as_na option is deprecated and will be removed in a future version. Convert inf values to NaN before operating instead.\n",
      "  with pd.option_context('mode.use_inf_as_na', True):\n"
     ]
    },
    {
     "data": {
      "text/plain": [
       "<Axes: xlabel='Offender_Age', ylabel='Count'>"
      ]
     },
     "execution_count": 9,
     "metadata": {},
     "output_type": "execute_result"
    },
    {
     "data": {
      "image/png": "[encoded data removed]",
      "text/plain": [
       "<Figure size 640x480 with 1 Axes>"
      ]
     },
     "metadata": {},
     "output_type": "display_data"
    }
   ],
   "source": [
    "sns.histplot(df['Offender_Age'])"
   ]
  },
  {
   "cell_type": "markdown",
   "id": "8617fa8a",
   "metadata": {
    "papermill": {
     "duration": 0.007109,
     "end_time": "2025-01-21T19:31:41.751818",
     "exception": false,
     "start_time": "2025-01-21T19:31:41.744709",
     "status": "completed"
    },
    "tags": []
   },
   "source": [
    "# *Suç işleyenlerin çoğunun 30 ve 40 yaşları arasında olduğunu, suçun 15 ve 35 yaşları arasında arttığını ve 35ten sonra suçun azaldığını öğrendik."
   ]
  },
  {
   "cell_type": "code",
   "execution_count": 10,
   "id": "35105d08",
   "metadata": {
    "execution": {
     "iopub.execute_input": "2025-01-21T19:31:41.768040Z",
     "iopub.status.busy": "2025-01-21T19:31:41.767597Z",
     "iopub.status.idle": "2025-01-21T19:31:41.774221Z",
     "shell.execute_reply": "2025-01-21T19:31:41.773170Z"
    },
    "papermill": {
     "duration": 0.016829,
     "end_time": "2025-01-21T19:31:41.776142",
     "exception": false,
     "start_time": "2025-01-21T19:31:41.759313",
     "status": "completed"
    },
    "tags": []
   },
   "outputs": [],
   "source": [
    "Blacks = df[df['Offender_Race'] == 'BLACK']"
   ]
  },
  {
   "cell_type": "code",
   "execution_count": 11,
   "id": "d2d3bf40",
   "metadata": {
    "execution": {
     "iopub.execute_input": "2025-01-21T19:31:41.792876Z",
     "iopub.status.busy": "2025-01-21T19:31:41.792505Z",
     "iopub.status.idle": "2025-01-21T19:31:42.024169Z",
     "shell.execute_reply": "2025-01-21T19:31:42.023072Z"
    },
    "papermill": {
     "duration": 0.242285,
     "end_time": "2025-01-21T19:31:42.026155",
     "exception": false,
     "start_time": "2025-01-21T19:31:41.783870",
     "status": "completed"
    },
    "tags": []
   },
   "outputs": [
    {
     "data": {
      "image/png": "[encoded data removed]",
      "text/plain": [
       "<Figure size 1000x600 with 1 Axes>"
      ]
     },
     "metadata": {},
     "output_type": "display_data"
    }
   ],
   "source": [
    "Blacks['Category'].value_counts(normalize=True).plot.pie(autopct='%.1f %%', ylabel='Siyahilerin karıştığı suçlar', legend = True, figsize = (10, 6))\n",
    "plt.legend(bbox_to_anchor=(1.0, 1.0), fontsize='small')\n",
    "plt.tight_layout()\n",
    "\n",
    "plt.show()"
   ]
  },
  {
   "cell_type": "markdown",
   "id": "2c0af8ae",
   "metadata": {
    "papermill": {
     "duration": 0.008742,
     "end_time": "2025-01-21T19:31:42.043453",
     "exception": false,
     "start_time": "2025-01-21T19:31:42.034711",
     "status": "completed"
    },
    "tags": []
   },
   "source": [
    "# * Suç işleyen siyahilerin %53'ünün şiddet suçunu ve %24'ünün hırsızlık suçunu işlediğini öğrendik."
   ]
  }
 ],
 "metadata": {
  "kaggle": {
   "accelerator": "none",
   "dataSources": [
    {
     "datasetId": 6520170,
     "sourceId": 10537719,
     "sourceType": "datasetVersion"
    }
   ],
   "dockerImageVersionId": 30839,
   "isGpuEnabled": false,
   "isInternetEnabled": false,
   "language": "python",
   "sourceType": "notebook"
  },
  "kernelspec": {
   "display_name": "Python 3",
   "language": "python",
   "name": "python3"
  },
  "language_info": {
   "codemirror_mode": {
    "name": "ipython",
    "version": 3
   },
   "file_extension": ".py",
   "mimetype": "text/x-python",
   "name": "python",
   "nbconvert_exporter": "python",
   "pygments_lexer": "ipython3",
   "version": "3.10.12"
  },
  "papermill": {
   "default_parameters": {},
   "duration": 7.63343,
   "end_time": "2025-01-21T19:31:42.772651",
   "environment_variables": {},
   "exception": null,
   "input_path": "__notebook__.ipynb",
   "output_path": "__notebook__.ipynb",
   "parameters": {},
   "start_time": "2025-01-21T19:31:35.139221",
   "version": "2.6.0"
  }
 },
 "nbformat": 4,
 "nbformat_minor": 5
}
