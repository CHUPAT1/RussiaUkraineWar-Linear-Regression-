{
 "cells": [
  {
   "cell_type": "markdown",
   "id": "27635ab8",
   "metadata": {
    "papermill": {
     "duration": 0.004721,
     "end_time": "2025-02-15T23:22:51.764107",
     "exception": false,
     "start_time": "2025-02-15T23:22:51.759386",
     "status": "completed"
    },
    "tags": []
   },
   "source": [
    "# RUSYA UKRAYNA SAVAŞI: RUS ORDUSUNUN ZAYİAT SAYISI TAHMİNİ (LINEAR REGRESSION)"
   ]
  },
  {
   "cell_type": "code",
   "execution_count": 1,
   "id": "e02cffcf",
   "metadata": {
    "_cell_guid": "b1076dfc-b9ad-4769-8c92-a6c4dae69d19",
    "_uuid": "8f2839f25d086af736a60e9eeb907d3b93b6e0e5",
    "execution": {
     "iopub.execute_input": "2025-02-15T23:22:51.772973Z",
     "iopub.status.busy": "2025-02-15T23:22:51.772600Z",
     "iopub.status.idle": "2025-02-15T23:22:55.737167Z",
     "shell.execute_reply": "2025-02-15T23:22:55.735655Z"
    },
    "papermill": {
     "duration": 3.971699,
     "end_time": "2025-02-15T23:22:55.739336",
     "exception": false,
     "start_time": "2025-02-15T23:22:51.767637",
     "status": "completed"
    },
    "tags": []
   },
   "outputs": [],
   "source": [
    "import pandas as pd\n",
    "import numpy as np\n",
    "import matplotlib.pyplot as plt\n",
    "import seaborn as sns\n",
    "import warnings\n",
    "\n",
    "warnings.filterwarnings('ignore')"
   ]
  },
  {
   "cell_type": "code",
   "execution_count": 2,
   "id": "deb98a2e",
   "metadata": {
    "execution": {
     "iopub.execute_input": "2025-02-15T23:22:55.748667Z",
     "iopub.status.busy": "2025-02-15T23:22:55.748138Z",
     "iopub.status.idle": "2025-02-15T23:22:55.780102Z",
     "shell.execute_reply": "2025-02-15T23:22:55.779107Z"
    },
    "papermill": {
     "duration": 0.038597,
     "end_time": "2025-02-15T23:22:55.782028",
     "exception": false,
     "start_time": "2025-02-15T23:22:55.743431",
     "status": "completed"
    },
    "tags": []
   },
   "outputs": [],
   "source": [
    "RPersonelLoss = pd.read_csv('/kaggle/input/2022-ukraine-russian-war/russia_losses_personnel.csv')\n",
    "REquipmentLoss = pd.read_csv('/kaggle/input/2022-ukraine-russian-war/russia_losses_equipment_correction.csv')\n"
   ]
  },
  {
   "cell_type": "markdown",
   "id": "b78c4f29",
   "metadata": {
    "papermill": {
     "duration": 0.003187,
     "end_time": "2025-02-15T23:22:55.789208",
     "exception": false,
     "start_time": "2025-02-15T23:22:55.786021",
     "status": "completed"
    },
    "tags": []
   },
   "source": [
    "# Veriyi inceleyelim"
   ]
  },
  {
   "cell_type": "code",
   "execution_count": 3,
   "id": "807b3a18",
   "metadata": {
    "execution": {
     "iopub.execute_input": "2025-02-15T23:22:55.797251Z",
     "iopub.status.busy": "2025-02-15T23:22:55.796887Z",
     "iopub.status.idle": "2025-02-15T23:22:55.803582Z",
     "shell.execute_reply": "2025-02-15T23:22:55.802003Z"
    },
    "papermill": {
     "duration": 0.012976,
     "end_time": "2025-02-15T23:22:55.805574",
     "exception": false,
     "start_time": "2025-02-15T23:22:55.792598",
     "status": "completed"
    },
    "tags": []
   },
   "outputs": [
    {
     "data": {
      "text/plain": [
       "(1081, 5)"
      ]
     },
     "execution_count": 3,
     "metadata": {},
     "output_type": "execute_result"
    }
   ],
   "source": [
    "RPersonelLoss.shape"
   ]
  },
  {
   "cell_type": "code",
   "execution_count": 4,
   "id": "afc84cbd",
   "metadata": {
    "execution": {
     "iopub.execute_input": "2025-02-15T23:22:55.814979Z",
     "iopub.status.busy": "2025-02-15T23:22:55.814630Z",
     "iopub.status.idle": "2025-02-15T23:22:55.845377Z",
     "shell.execute_reply": "2025-02-15T23:22:55.844169Z"
    },
    "papermill": {
     "duration": 0.036878,
     "end_time": "2025-02-15T23:22:55.846806",
     "exception": false,
     "start_time": "2025-02-15T23:22:55.809928",
     "status": "completed"
    },
    "tags": []
   },
   "outputs": [
    {
     "data": {
      "text/html": [
       "<div>\n",
       "<style scoped>\n",
       "    .dataframe tbody tr th:only-of-type {\n",
       "        vertical-align: middle;\n",
       "    }\n",
       "\n",
       "    .dataframe tbody tr th {\n",
       "        vertical-align: top;\n",
       "    }\n",
       "\n",
       "    .dataframe thead th {\n",
       "        text-align: right;\n",
       "    }\n",
       "</style>\n",
       "<table border=\"1\" class=\"dataframe\">\n",
       "  <thead>\n",
       "    <tr style=\"text-align: right;\">\n",
       "      <th></th>\n",
       "      <th>date</th>\n",
       "      <th>day</th>\n",
       "      <th>personnel</th>\n",
       "      <th>personnel*</th>\n",
       "      <th>POW</th>\n",
       "    </tr>\n",
       "  </thead>\n",
       "  <tbody>\n",
       "    <tr>\n",
       "      <th>0</th>\n",
       "      <td>2025-02-09</td>\n",
       "      <td>1082</td>\n",
       "      <td>849320</td>\n",
       "      <td>about</td>\n",
       "      <td>NaN</td>\n",
       "    </tr>\n",
       "    <tr>\n",
       "      <th>1</th>\n",
       "      <td>2025-02-08</td>\n",
       "      <td>1081</td>\n",
       "      <td>847860</td>\n",
       "      <td>about</td>\n",
       "      <td>NaN</td>\n",
       "    </tr>\n",
       "    <tr>\n",
       "      <th>2</th>\n",
       "      <td>2025-02-07</td>\n",
       "      <td>1080</td>\n",
       "      <td>846650</td>\n",
       "      <td>about</td>\n",
       "      <td>NaN</td>\n",
       "    </tr>\n",
       "    <tr>\n",
       "      <th>3</th>\n",
       "      <td>2025-02-06</td>\n",
       "      <td>1079</td>\n",
       "      <td>845310</td>\n",
       "      <td>about</td>\n",
       "      <td>NaN</td>\n",
       "    </tr>\n",
       "    <tr>\n",
       "      <th>4</th>\n",
       "      <td>2025-02-05</td>\n",
       "      <td>1078</td>\n",
       "      <td>844070</td>\n",
       "      <td>about</td>\n",
       "      <td>NaN</td>\n",
       "    </tr>\n",
       "  </tbody>\n",
       "</table>\n",
       "</div>"
      ],
      "text/plain": [
       "         date   day  personnel personnel*  POW\n",
       "0  2025-02-09  1082     849320      about  NaN\n",
       "1  2025-02-08  1081     847860      about  NaN\n",
       "2  2025-02-07  1080     846650      about  NaN\n",
       "3  2025-02-06  1079     845310      about  NaN\n",
       "4  2025-02-05  1078     844070      about  NaN"
      ]
     },
     "execution_count": 4,
     "metadata": {},
     "output_type": "execute_result"
    }
   ],
   "source": [
    "RPersonelLoss.head()"
   ]
  },
  {
   "cell_type": "code",
   "execution_count": 5,
   "id": "a2ade0fb",
   "metadata": {
    "execution": {
     "iopub.execute_input": "2025-02-15T23:22:55.856069Z",
     "iopub.status.busy": "2025-02-15T23:22:55.855704Z",
     "iopub.status.idle": "2025-02-15T23:22:55.865467Z",
     "shell.execute_reply": "2025-02-15T23:22:55.864313Z"
    },
    "papermill": {
     "duration": 0.016985,
     "end_time": "2025-02-15T23:22:55.867858",
     "exception": false,
     "start_time": "2025-02-15T23:22:55.850873",
     "status": "completed"
    },
    "tags": []
   },
   "outputs": [
    {
     "data": {
      "text/html": [
       "<div>\n",
       "<style scoped>\n",
       "    .dataframe tbody tr th:only-of-type {\n",
       "        vertical-align: middle;\n",
       "    }\n",
       "\n",
       "    .dataframe tbody tr th {\n",
       "        vertical-align: top;\n",
       "    }\n",
       "\n",
       "    .dataframe thead th {\n",
       "        text-align: right;\n",
       "    }\n",
       "</style>\n",
       "<table border=\"1\" class=\"dataframe\">\n",
       "  <thead>\n",
       "    <tr style=\"text-align: right;\">\n",
       "      <th></th>\n",
       "      <th>date</th>\n",
       "      <th>day</th>\n",
       "      <th>personnel</th>\n",
       "      <th>personnel*</th>\n",
       "      <th>POW</th>\n",
       "    </tr>\n",
       "  </thead>\n",
       "  <tbody>\n",
       "    <tr>\n",
       "      <th>1076</th>\n",
       "      <td>2022-03-01</td>\n",
       "      <td>6</td>\n",
       "      <td>5710</td>\n",
       "      <td>about</td>\n",
       "      <td>200.0</td>\n",
       "    </tr>\n",
       "    <tr>\n",
       "      <th>1077</th>\n",
       "      <td>2022-02-28</td>\n",
       "      <td>5</td>\n",
       "      <td>5300</td>\n",
       "      <td>about</td>\n",
       "      <td>0.0</td>\n",
       "    </tr>\n",
       "    <tr>\n",
       "      <th>1078</th>\n",
       "      <td>2022-02-27</td>\n",
       "      <td>4</td>\n",
       "      <td>4500</td>\n",
       "      <td>about</td>\n",
       "      <td>0.0</td>\n",
       "    </tr>\n",
       "    <tr>\n",
       "      <th>1079</th>\n",
       "      <td>2022-02-26</td>\n",
       "      <td>3</td>\n",
       "      <td>4300</td>\n",
       "      <td>about</td>\n",
       "      <td>0.0</td>\n",
       "    </tr>\n",
       "    <tr>\n",
       "      <th>1080</th>\n",
       "      <td>2022-02-25</td>\n",
       "      <td>2</td>\n",
       "      <td>2800</td>\n",
       "      <td>about</td>\n",
       "      <td>0.0</td>\n",
       "    </tr>\n",
       "  </tbody>\n",
       "</table>\n",
       "</div>"
      ],
      "text/plain": [
       "            date  day  personnel personnel*    POW\n",
       "1076  2022-03-01    6       5710      about  200.0\n",
       "1077  2022-02-28    5       5300      about    0.0\n",
       "1078  2022-02-27    4       4500      about    0.0\n",
       "1079  2022-02-26    3       4300      about    0.0\n",
       "1080  2022-02-25    2       2800      about    0.0"
      ]
     },
     "execution_count": 5,
     "metadata": {},
     "output_type": "execute_result"
    }
   ],
   "source": [
    "RPersonelLoss.tail()"
   ]
  },
  {
   "cell_type": "code",
   "execution_count": 6,
   "id": "e4e90be1",
   "metadata": {
    "execution": {
     "iopub.execute_input": "2025-02-15T23:22:55.877875Z",
     "iopub.status.busy": "2025-02-15T23:22:55.877499Z",
     "iopub.status.idle": "2025-02-15T23:22:55.884838Z",
     "shell.execute_reply": "2025-02-15T23:22:55.883689Z"
    },
    "papermill": {
     "duration": 0.014183,
     "end_time": "2025-02-15T23:22:55.886755",
     "exception": false,
     "start_time": "2025-02-15T23:22:55.872572",
     "status": "completed"
    },
    "tags": []
   },
   "outputs": [
    {
     "data": {
      "text/plain": [
       "date           object\n",
       "day             int64\n",
       "personnel       int64\n",
       "personnel*     object\n",
       "POW           float64\n",
       "dtype: object"
      ]
     },
     "execution_count": 6,
     "metadata": {},
     "output_type": "execute_result"
    }
   ],
   "source": [
    "RPersonelLoss.dtypes"
   ]
  },
  {
   "cell_type": "markdown",
   "id": "a365fdb4",
   "metadata": {
    "papermill": {
     "duration": 0.003602,
     "end_time": "2025-02-15T23:22:55.895231",
     "exception": false,
     "start_time": "2025-02-15T23:22:55.891629",
     "status": "completed"
    },
    "tags": []
   },
   "source": [
    "# Veriyi Düzenleyelim "
   ]
  },
  {
   "cell_type": "code",
   "execution_count": 7,
   "id": "04f8f665",
   "metadata": {
    "execution": {
     "iopub.execute_input": "2025-02-15T23:22:55.904136Z",
     "iopub.status.busy": "2025-02-15T23:22:55.903773Z",
     "iopub.status.idle": "2025-02-15T23:22:55.929807Z",
     "shell.execute_reply": "2025-02-15T23:22:55.928521Z"
    },
    "papermill": {
     "duration": 0.032584,
     "end_time": "2025-02-15T23:22:55.931616",
     "exception": false,
     "start_time": "2025-02-15T23:22:55.899032",
     "status": "completed"
    },
    "tags": []
   },
   "outputs": [],
   "source": [
    "\n",
    "\n",
    "RPersonelLoss = RPersonelLoss.drop('personnel*', axis = 'columns')\n"
   ]
  },
  {
   "cell_type": "code",
   "execution_count": 8,
   "id": "423fec7f",
   "metadata": {
    "execution": {
     "iopub.execute_input": "2025-02-15T23:22:55.941408Z",
     "iopub.status.busy": "2025-02-15T23:22:55.941007Z",
     "iopub.status.idle": "2025-02-15T23:22:55.949601Z",
     "shell.execute_reply": "2025-02-15T23:22:55.948420Z"
    },
    "papermill": {
     "duration": 0.015645,
     "end_time": "2025-02-15T23:22:55.951685",
     "exception": false,
     "start_time": "2025-02-15T23:22:55.936040",
     "status": "completed"
    },
    "tags": []
   },
   "outputs": [],
   "source": [
    "RPersonelLoss = RPersonelLoss.sort_values('date')\n"
   ]
  },
  {
   "cell_type": "code",
   "execution_count": 9,
   "id": "7817033c",
   "metadata": {
    "execution": {
     "iopub.execute_input": "2025-02-15T23:22:55.961243Z",
     "iopub.status.busy": "2025-02-15T23:22:55.960799Z",
     "iopub.status.idle": "2025-02-15T23:22:55.967683Z",
     "shell.execute_reply": "2025-02-15T23:22:55.966320Z"
    },
    "papermill": {
     "duration": 0.013599,
     "end_time": "2025-02-15T23:22:55.969562",
     "exception": false,
     "start_time": "2025-02-15T23:22:55.955963",
     "status": "completed"
    },
    "tags": []
   },
   "outputs": [],
   "source": [
    "RPersonelLoss.fillna(0, inplace = True)"
   ]
  },
  {
   "cell_type": "code",
   "execution_count": 10,
   "id": "e2265c24",
   "metadata": {
    "execution": {
     "iopub.execute_input": "2025-02-15T23:22:55.979149Z",
     "iopub.status.busy": "2025-02-15T23:22:55.978716Z",
     "iopub.status.idle": "2025-02-15T23:22:55.989511Z",
     "shell.execute_reply": "2025-02-15T23:22:55.988562Z"
    },
    "papermill": {
     "duration": 0.017256,
     "end_time": "2025-02-15T23:22:55.991093",
     "exception": false,
     "start_time": "2025-02-15T23:22:55.973837",
     "status": "completed"
    },
    "tags": []
   },
   "outputs": [
    {
     "data": {
      "text/html": [
       "<div>\n",
       "<style scoped>\n",
       "    .dataframe tbody tr th:only-of-type {\n",
       "        vertical-align: middle;\n",
       "    }\n",
       "\n",
       "    .dataframe tbody tr th {\n",
       "        vertical-align: top;\n",
       "    }\n",
       "\n",
       "    .dataframe thead th {\n",
       "        text-align: right;\n",
       "    }\n",
       "</style>\n",
       "<table border=\"1\" class=\"dataframe\">\n",
       "  <thead>\n",
       "    <tr style=\"text-align: right;\">\n",
       "      <th></th>\n",
       "      <th>date</th>\n",
       "      <th>day</th>\n",
       "      <th>personnel</th>\n",
       "      <th>POW</th>\n",
       "    </tr>\n",
       "  </thead>\n",
       "  <tbody>\n",
       "    <tr>\n",
       "      <th>1080</th>\n",
       "      <td>2022-02-25</td>\n",
       "      <td>2</td>\n",
       "      <td>2800</td>\n",
       "      <td>0.0</td>\n",
       "    </tr>\n",
       "    <tr>\n",
       "      <th>1079</th>\n",
       "      <td>2022-02-26</td>\n",
       "      <td>3</td>\n",
       "      <td>4300</td>\n",
       "      <td>0.0</td>\n",
       "    </tr>\n",
       "    <tr>\n",
       "      <th>1078</th>\n",
       "      <td>2022-02-27</td>\n",
       "      <td>4</td>\n",
       "      <td>4500</td>\n",
       "      <td>0.0</td>\n",
       "    </tr>\n",
       "    <tr>\n",
       "      <th>1077</th>\n",
       "      <td>2022-02-28</td>\n",
       "      <td>5</td>\n",
       "      <td>5300</td>\n",
       "      <td>0.0</td>\n",
       "    </tr>\n",
       "    <tr>\n",
       "      <th>1076</th>\n",
       "      <td>2022-03-01</td>\n",
       "      <td>6</td>\n",
       "      <td>5710</td>\n",
       "      <td>200.0</td>\n",
       "    </tr>\n",
       "    <tr>\n",
       "      <th>...</th>\n",
       "      <td>...</td>\n",
       "      <td>...</td>\n",
       "      <td>...</td>\n",
       "      <td>...</td>\n",
       "    </tr>\n",
       "    <tr>\n",
       "      <th>4</th>\n",
       "      <td>2025-02-05</td>\n",
       "      <td>1078</td>\n",
       "      <td>844070</td>\n",
       "      <td>0.0</td>\n",
       "    </tr>\n",
       "    <tr>\n",
       "      <th>3</th>\n",
       "      <td>2025-02-06</td>\n",
       "      <td>1079</td>\n",
       "      <td>845310</td>\n",
       "      <td>0.0</td>\n",
       "    </tr>\n",
       "    <tr>\n",
       "      <th>2</th>\n",
       "      <td>2025-02-07</td>\n",
       "      <td>1080</td>\n",
       "      <td>846650</td>\n",
       "      <td>0.0</td>\n",
       "    </tr>\n",
       "    <tr>\n",
       "      <th>1</th>\n",
       "      <td>2025-02-08</td>\n",
       "      <td>1081</td>\n",
       "      <td>847860</td>\n",
       "      <td>0.0</td>\n",
       "    </tr>\n",
       "    <tr>\n",
       "      <th>0</th>\n",
       "      <td>2025-02-09</td>\n",
       "      <td>1082</td>\n",
       "      <td>849320</td>\n",
       "      <td>0.0</td>\n",
       "    </tr>\n",
       "  </tbody>\n",
       "</table>\n",
       "<p>1081 rows × 4 columns</p>\n",
       "</div>"
      ],
      "text/plain": [
       "            date   day  personnel    POW\n",
       "1080  2022-02-25     2       2800    0.0\n",
       "1079  2022-02-26     3       4300    0.0\n",
       "1078  2022-02-27     4       4500    0.0\n",
       "1077  2022-02-28     5       5300    0.0\n",
       "1076  2022-03-01     6       5710  200.0\n",
       "...          ...   ...        ...    ...\n",
       "4     2025-02-05  1078     844070    0.0\n",
       "3     2025-02-06  1079     845310    0.0\n",
       "2     2025-02-07  1080     846650    0.0\n",
       "1     2025-02-08  1081     847860    0.0\n",
       "0     2025-02-09  1082     849320    0.0\n",
       "\n",
       "[1081 rows x 4 columns]"
      ]
     },
     "execution_count": 10,
     "metadata": {},
     "output_type": "execute_result"
    }
   ],
   "source": [
    "RPersonelLoss"
   ]
  },
  {
   "cell_type": "code",
   "execution_count": 11,
   "id": "9ef840c9",
   "metadata": {
    "execution": {
     "iopub.execute_input": "2025-02-15T23:22:56.004331Z",
     "iopub.status.busy": "2025-02-15T23:22:56.002765Z",
     "iopub.status.idle": "2025-02-15T23:22:57.967956Z",
     "shell.execute_reply": "2025-02-15T23:22:57.966894Z"
    },
    "papermill": {
     "duration": 1.973463,
     "end_time": "2025-02-15T23:22:57.969851",
     "exception": false,
     "start_time": "2025-02-15T23:22:55.996388",
     "status": "completed"
    },
    "tags": []
   },
   "outputs": [
    {
     "data": {
      "image/png": "[encoded data removed]",
      "text/plain": [
       "<Figure size 750x750 with 12 Axes>"
      ]
     },
     "metadata": {},
     "output_type": "display_data"
    }
   ],
   "source": [
    "sns.pairplot(RPersonelLoss, vars = ['day', 'personnel', 'POW'])\n",
    "plt.show()"
   ]
  },
  {
   "cell_type": "markdown",
   "id": "1e566023",
   "metadata": {
    "papermill": {
     "duration": 0.005262,
     "end_time": "2025-02-15T23:22:57.981061",
     "exception": false,
     "start_time": "2025-02-15T23:22:57.975799",
     "status": "completed"
    },
    "tags": []
   },
   "source": [
    "# Burada sadece gün ve zayiat arasında anlamlı bir ilişki kurabiliyoruz"
   ]
  },
  {
   "cell_type": "code",
   "execution_count": 12,
   "id": "ab427df0",
   "metadata": {
    "execution": {
     "iopub.execute_input": "2025-02-15T23:22:57.993163Z",
     "iopub.status.busy": "2025-02-15T23:22:57.992813Z",
     "iopub.status.idle": "2025-02-15T23:22:58.153699Z",
     "shell.execute_reply": "2025-02-15T23:22:58.152584Z"
    },
    "papermill": {
     "duration": 0.168529,
     "end_time": "2025-02-15T23:22:58.155086",
     "exception": false,
     "start_time": "2025-02-15T23:22:57.986557",
     "status": "completed"
    },
    "tags": []
   },
   "outputs": [
    {
     "data": {
      "text/plain": [
       "<Axes: xlabel='day', ylabel='personnel'>"
      ]
     },
     "execution_count": 12,
     "metadata": {},
     "output_type": "execute_result"
    },
    {
     "data": {
      "image/png": "[encoded data removed]",
      "text/plain": [
       "<Figure size 640x480 with 1 Axes>"
      ]
     },
     "metadata": {},
     "output_type": "display_data"
    }
   ],
   "source": [
    "sns.lineplot(RPersonelLoss, x='day', y='personnel')"
   ]
  },
  {
   "cell_type": "code",
   "execution_count": 13,
   "id": "49b4e11c",
   "metadata": {
    "execution": {
     "iopub.execute_input": "2025-02-15T23:22:58.167817Z",
     "iopub.status.busy": "2025-02-15T23:22:58.167480Z",
     "iopub.status.idle": "2025-02-15T23:22:58.171655Z",
     "shell.execute_reply": "2025-02-15T23:22:58.170822Z"
    },
    "papermill": {
     "duration": 0.012373,
     "end_time": "2025-02-15T23:22:58.173235",
     "exception": false,
     "start_time": "2025-02-15T23:22:58.160862",
     "status": "completed"
    },
    "tags": []
   },
   "outputs": [],
   "source": [
    "x = RPersonelLoss['day']\n",
    "y = RPersonelLoss['personnel']\n",
    "x = x.values.reshape(-1, 1)\n",
    "y = y.values.reshape(-1, 1)"
   ]
  },
  {
   "cell_type": "code",
   "execution_count": 14,
   "id": "0c72a3fc",
   "metadata": {
    "execution": {
     "iopub.execute_input": "2025-02-15T23:22:58.187254Z",
     "iopub.status.busy": "2025-02-15T23:22:58.186911Z",
     "iopub.status.idle": "2025-02-15T23:22:59.059347Z",
     "shell.execute_reply": "2025-02-15T23:22:59.058363Z"
    },
    "papermill": {
     "duration": 0.881757,
     "end_time": "2025-02-15T23:22:59.060779",
     "exception": false,
     "start_time": "2025-02-15T23:22:58.179022",
     "status": "completed"
    },
    "tags": []
   },
   "outputs": [
    {
     "name": "stdout",
     "output_type": "stream",
     "text": [
      "[[1016842.1710968]]\n"
     ]
    }
   ],
   "source": [
    "from sklearn import datasets, linear_model\n",
    "regr = linear_model.LinearRegression()\n",
    "regr.fit(x, y)\n",
    "x_predict = [[1478]]\n",
    "y_predict = regr.predict(x_predict)\n",
    "print(y_predict)"
   ]
  },
  {
   "cell_type": "markdown",
   "id": "f2982771",
   "metadata": {
    "papermill": {
     "duration": 0.005808,
     "end_time": "2025-02-15T23:22:59.076953",
     "exception": false,
     "start_time": "2025-02-15T23:22:59.071145",
     "status": "completed"
    },
    "tags": []
   },
   "source": [
    "# Modelimize göre savaşın 1478'nci günü(12 Mart 2026) Rus ordusunun toplam zayiat sayısı 1.000.000(bir milyon)'u geçecek."
   ]
  },
  {
   "cell_type": "markdown",
   "id": "74d904c0",
   "metadata": {
    "papermill": {
     "duration": 0.005552,
     "end_time": "2025-02-15T23:22:59.088457",
     "exception": false,
     "start_time": "2025-02-15T23:22:59.082905",
     "status": "completed"
    },
    "tags": []
   },
   "source": [
    "# Modelimizin tutarlı/isabetli olup olmadığını görmek için R^2'sine bakalım."
   ]
  },
  {
   "cell_type": "code",
   "execution_count": 15,
   "id": "fef1fe3d",
   "metadata": {
    "execution": {
     "iopub.execute_input": "2025-02-15T23:22:59.101715Z",
     "iopub.status.busy": "2025-02-15T23:22:59.101335Z",
     "iopub.status.idle": "2025-02-15T23:22:59.107050Z",
     "shell.execute_reply": "2025-02-15T23:22:59.106008Z"
    },
    "papermill": {
     "duration": 0.014108,
     "end_time": "2025-02-15T23:22:59.108596",
     "exception": false,
     "start_time": "2025-02-15T23:22:59.094488",
     "status": "completed"
    },
    "tags": []
   },
   "outputs": [
    {
     "name": "stdout",
     "output_type": "stream",
     "text": [
      "0.9543476426266142\n"
     ]
    }
   ],
   "source": [
    "from sklearn.metrics import r2_score\n",
    "r_squared = regr.score(x, y)\n",
    "print(r_squared)"
   ]
  },
  {
   "cell_type": "markdown",
   "id": "a400f343",
   "metadata": {
    "papermill": {
     "duration": 0.005468,
     "end_time": "2025-02-15T23:22:59.120185",
     "exception": false,
     "start_time": "2025-02-15T23:22:59.114717",
     "status": "completed"
    },
    "tags": []
   },
   "source": [
    "# Modelimizin R^2'si 0.95 çıktı. Yani modelimizin tutarlı/isabetli olduğunu söyleyebiliriz. Fakat R^2'mizin 0.95 çıkması bize gün ve kaybedilen personel sayısında multicollinearity olduğunu gösterebilir. "
   ]
  },
  {
   "cell_type": "code",
   "execution_count": 16,
   "id": "0c078ad0",
   "metadata": {
    "execution": {
     "iopub.execute_input": "2025-02-15T23:22:59.133231Z",
     "iopub.status.busy": "2025-02-15T23:22:59.132834Z",
     "iopub.status.idle": "2025-02-15T23:22:59.142381Z",
     "shell.execute_reply": "2025-02-15T23:22:59.141528Z"
    },
    "papermill": {
     "duration": 0.017554,
     "end_time": "2025-02-15T23:22:59.143661",
     "exception": false,
     "start_time": "2025-02-15T23:22:59.126107",
     "status": "completed"
    },
    "tags": []
   },
   "outputs": [
    {
     "data": {
      "text/html": [
       "<div>\n",
       "<style scoped>\n",
       "    .dataframe tbody tr th:only-of-type {\n",
       "        vertical-align: middle;\n",
       "    }\n",
       "\n",
       "    .dataframe tbody tr th {\n",
       "        vertical-align: top;\n",
       "    }\n",
       "\n",
       "    .dataframe thead th {\n",
       "        text-align: right;\n",
       "    }\n",
       "</style>\n",
       "<table border=\"1\" class=\"dataframe\">\n",
       "  <thead>\n",
       "    <tr style=\"text-align: right;\">\n",
       "      <th></th>\n",
       "      <th>day</th>\n",
       "      <th>personnel</th>\n",
       "      <th>POW</th>\n",
       "    </tr>\n",
       "  </thead>\n",
       "  <tbody>\n",
       "    <tr>\n",
       "      <th>day</th>\n",
       "      <td>1.000000</td>\n",
       "      <td>0.976907</td>\n",
       "      <td>-0.376686</td>\n",
       "    </tr>\n",
       "    <tr>\n",
       "      <th>personnel</th>\n",
       "      <td>0.976907</td>\n",
       "      <td>1.000000</td>\n",
       "      <td>-0.279808</td>\n",
       "    </tr>\n",
       "    <tr>\n",
       "      <th>POW</th>\n",
       "      <td>-0.376686</td>\n",
       "      <td>-0.279808</td>\n",
       "      <td>1.000000</td>\n",
       "    </tr>\n",
       "  </tbody>\n",
       "</table>\n",
       "</div>"
      ],
      "text/plain": [
       "                day  personnel       POW\n",
       "day        1.000000   0.976907 -0.376686\n",
       "personnel  0.976907   1.000000 -0.279808\n",
       "POW       -0.376686  -0.279808  1.000000"
      ]
     },
     "execution_count": 16,
     "metadata": {},
     "output_type": "execute_result"
    }
   ],
   "source": [
    "noDate = RPersonelLoss.drop('date', axis = 1)\n",
    "corrM = noDate.corr()\n",
    "corrM"
   ]
  },
  {
   "cell_type": "markdown",
   "id": "b1a00bc7",
   "metadata": {
    "papermill": {
     "duration": 0.005516,
     "end_time": "2025-02-15T23:22:59.155322",
     "exception": false,
     "start_time": "2025-02-15T23:22:59.149806",
     "status": "completed"
    },
    "tags": []
   },
   "source": [
    "# Gün ve kaybedilen personel arasında multicollinearity olduğunu gördük. Fakat bu modelimizin yanlış tahminlerde bulunacağını göstermez."
   ]
  }
 ],
 "metadata": {
  "kaggle": {
   "accelerator": "none",
   "dataSources": [
    {
     "databundleVersionId": 11051022,
     "datasetId": 1967621,
     "sourceId": 10703280,
     "sourceType": "datasetVersion"
    }
   ],
   "dockerImageVersionId": 30839,
   "isGpuEnabled": false,
   "isInternetEnabled": false,
   "language": "python",
   "sourceType": "notebook"
  },
  "kernelspec": {
   "display_name": "Python 3",
   "language": "python",
   "name": "python3"
  },
  "language_info": {
   "codemirror_mode": {
    "name": "ipython",
    "version": 3
   },
   "file_extension": ".py",
   "mimetype": "text/x-python",
   "name": "python",
   "nbconvert_exporter": "python",
   "pygments_lexer": "ipython3",
   "version": "3.10.12"
  },
  "papermill": {
   "default_parameters": {},
   "duration": 11.405233,
   "end_time": "2025-02-15T23:23:00.082486",
   "environment_variables": {},
   "exception": null,
   "input_path": "__notebook__.ipynb",
   "output_path": "__notebook__.ipynb",
   "parameters": {},
   "start_time": "2025-02-15T23:22:48.677253",
   "version": "2.6.0"
  }
 },
 "nbformat": 4,
 "nbformat_minor": 5
}
