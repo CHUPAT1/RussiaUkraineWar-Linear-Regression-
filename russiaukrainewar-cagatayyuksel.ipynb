{
 "cells": [
  {
   "cell_type": "markdown",
   "id": "f8e0e4b2",
   "metadata": {
    "papermill": {
     "duration": 0.004283,
     "end_time": "2025-01-31T20:10:15.639792",
     "exception": false,
     "start_time": "2025-01-31T20:10:15.635509",
     "status": "completed"
    },
    "tags": []
   },
   "source": [
    "# RUSYA UKRAYNA SAVAŞI: RUS ORDUSUNUN ZAYİAT SAYISI TAHMİNİ (LINEAR REGRESSION)"
   ]
  },
  {
   "cell_type": "code",
   "execution_count": 1,
   "id": "87c7dd4a",
   "metadata": {
    "_cell_guid": "b1076dfc-b9ad-4769-8c92-a6c4dae69d19",
    "_uuid": "8f2839f25d086af736a60e9eeb907d3b93b6e0e5",
    "execution": {
     "iopub.execute_input": "2025-01-31T20:10:15.648578Z",
     "iopub.status.busy": "2025-01-31T20:10:15.648209Z",
     "iopub.status.idle": "2025-01-31T20:10:18.546169Z",
     "shell.execute_reply": "2025-01-31T20:10:18.545094Z"
    },
    "papermill": {
     "duration": 2.904308,
     "end_time": "2025-01-31T20:10:18.547958",
     "exception": false,
     "start_time": "2025-01-31T20:10:15.643650",
     "status": "completed"
    },
    "tags": []
   },
   "outputs": [],
   "source": [
    "import pandas as pd\n",
    "import numpy as np\n",
    "import matplotlib.pyplot as plt\n",
    "import seaborn as sns\n",
    "import warnings\n",
    "\n",
    "warnings.filterwarnings('ignore')"
   ]
  },
  {
   "cell_type": "code",
   "execution_count": 2,
   "id": "cd5b4f46",
   "metadata": {
    "execution": {
     "iopub.execute_input": "2025-01-31T20:10:18.557132Z",
     "iopub.status.busy": "2025-01-31T20:10:18.556552Z",
     "iopub.status.idle": "2025-01-31T20:10:18.594972Z",
     "shell.execute_reply": "2025-01-31T20:10:18.594022Z"
    },
    "papermill": {
     "duration": 0.044933,
     "end_time": "2025-01-31T20:10:18.596812",
     "exception": false,
     "start_time": "2025-01-31T20:10:18.551879",
     "status": "completed"
    },
    "tags": []
   },
   "outputs": [],
   "source": [
    "RPersonelLoss = pd.read_csv('/kaggle/input/2022-ukraine-russian-war/russia_losses_personnel.csv')\n",
    "REquipmentLoss = pd.read_csv('/kaggle/input/2022-ukraine-russian-war/russia_losses_equipment_correction.csv')\n"
   ]
  },
  {
   "cell_type": "code",
   "execution_count": 3,
   "id": "2c5d592a",
   "metadata": {
    "execution": {
     "iopub.execute_input": "2025-01-31T20:10:18.605678Z",
     "iopub.status.busy": "2025-01-31T20:10:18.605346Z",
     "iopub.status.idle": "2025-01-31T20:10:18.623022Z",
     "shell.execute_reply": "2025-01-31T20:10:18.622111Z"
    },
    "papermill": {
     "duration": 0.023983,
     "end_time": "2025-01-31T20:10:18.624683",
     "exception": false,
     "start_time": "2025-01-31T20:10:18.600700",
     "status": "completed"
    },
    "tags": []
   },
   "outputs": [],
   "source": [
    "\n",
    "\n",
    "RPersonelLoss = RPersonelLoss.drop('personnel*', axis = 'columns')\n"
   ]
  },
  {
   "cell_type": "code",
   "execution_count": 4,
   "id": "e549d6f0",
   "metadata": {
    "execution": {
     "iopub.execute_input": "2025-01-31T20:10:18.633552Z",
     "iopub.status.busy": "2025-01-31T20:10:18.633219Z",
     "iopub.status.idle": "2025-01-31T20:10:18.640767Z",
     "shell.execute_reply": "2025-01-31T20:10:18.639733Z"
    },
    "papermill": {
     "duration": 0.013681,
     "end_time": "2025-01-31T20:10:18.642396",
     "exception": false,
     "start_time": "2025-01-31T20:10:18.628715",
     "status": "completed"
    },
    "tags": []
   },
   "outputs": [],
   "source": [
    "RPersonelLoss = RPersonelLoss.sort_values('date')\n"
   ]
  },
  {
   "cell_type": "code",
   "execution_count": 5,
   "id": "d30f643b",
   "metadata": {
    "execution": {
     "iopub.execute_input": "2025-01-31T20:10:18.651049Z",
     "iopub.status.busy": "2025-01-31T20:10:18.650665Z",
     "iopub.status.idle": "2025-01-31T20:10:18.656072Z",
     "shell.execute_reply": "2025-01-31T20:10:18.655109Z"
    },
    "papermill": {
     "duration": 0.011652,
     "end_time": "2025-01-31T20:10:18.657790",
     "exception": false,
     "start_time": "2025-01-31T20:10:18.646138",
     "status": "completed"
    },
    "tags": []
   },
   "outputs": [],
   "source": [
    "RPersonelLoss.fillna(0, inplace = True)"
   ]
  },
  {
   "cell_type": "code",
   "execution_count": 6,
   "id": "b8d6fe03",
   "metadata": {
    "execution": {
     "iopub.execute_input": "2025-01-31T20:10:18.667003Z",
     "iopub.status.busy": "2025-01-31T20:10:18.666598Z",
     "iopub.status.idle": "2025-01-31T20:10:18.687509Z",
     "shell.execute_reply": "2025-01-31T20:10:18.686157Z"
    },
    "papermill": {
     "duration": 0.027648,
     "end_time": "2025-01-31T20:10:18.689442",
     "exception": false,
     "start_time": "2025-01-31T20:10:18.661794",
     "status": "completed"
    },
    "tags": []
   },
   "outputs": [
    {
     "data": {
      "text/html": [
       "<div>\n",
       "<style scoped>\n",
       "    .dataframe tbody tr th:only-of-type {\n",
       "        vertical-align: middle;\n",
       "    }\n",
       "\n",
       "    .dataframe tbody tr th {\n",
       "        vertical-align: top;\n",
       "    }\n",
       "\n",
       "    .dataframe thead th {\n",
       "        text-align: right;\n",
       "    }\n",
       "</style>\n",
       "<table border=\"1\" class=\"dataframe\">\n",
       "  <thead>\n",
       "    <tr style=\"text-align: right;\">\n",
       "      <th></th>\n",
       "      <th>date</th>\n",
       "      <th>day</th>\n",
       "      <th>personnel</th>\n",
       "      <th>POW</th>\n",
       "    </tr>\n",
       "  </thead>\n",
       "  <tbody>\n",
       "    <tr>\n",
       "      <th>1066</th>\n",
       "      <td>2022-02-25</td>\n",
       "      <td>2</td>\n",
       "      <td>2800</td>\n",
       "      <td>0.0</td>\n",
       "    </tr>\n",
       "    <tr>\n",
       "      <th>1065</th>\n",
       "      <td>2022-02-26</td>\n",
       "      <td>3</td>\n",
       "      <td>4300</td>\n",
       "      <td>0.0</td>\n",
       "    </tr>\n",
       "    <tr>\n",
       "      <th>1064</th>\n",
       "      <td>2022-02-27</td>\n",
       "      <td>4</td>\n",
       "      <td>4500</td>\n",
       "      <td>0.0</td>\n",
       "    </tr>\n",
       "    <tr>\n",
       "      <th>1063</th>\n",
       "      <td>2022-02-28</td>\n",
       "      <td>5</td>\n",
       "      <td>5300</td>\n",
       "      <td>0.0</td>\n",
       "    </tr>\n",
       "    <tr>\n",
       "      <th>1062</th>\n",
       "      <td>2022-03-01</td>\n",
       "      <td>6</td>\n",
       "      <td>5710</td>\n",
       "      <td>200.0</td>\n",
       "    </tr>\n",
       "    <tr>\n",
       "      <th>...</th>\n",
       "      <td>...</td>\n",
       "      <td>...</td>\n",
       "      <td>...</td>\n",
       "      <td>...</td>\n",
       "    </tr>\n",
       "    <tr>\n",
       "      <th>4</th>\n",
       "      <td>2025-01-22</td>\n",
       "      <td>1064</td>\n",
       "      <td>823980</td>\n",
       "      <td>0.0</td>\n",
       "    </tr>\n",
       "    <tr>\n",
       "      <th>3</th>\n",
       "      <td>2025-01-23</td>\n",
       "      <td>1065</td>\n",
       "      <td>825320</td>\n",
       "      <td>0.0</td>\n",
       "    </tr>\n",
       "    <tr>\n",
       "      <th>2</th>\n",
       "      <td>2025-01-24</td>\n",
       "      <td>1066</td>\n",
       "      <td>826820</td>\n",
       "      <td>0.0</td>\n",
       "    </tr>\n",
       "    <tr>\n",
       "      <th>1</th>\n",
       "      <td>2025-01-25</td>\n",
       "      <td>1067</td>\n",
       "      <td>828470</td>\n",
       "      <td>0.0</td>\n",
       "    </tr>\n",
       "    <tr>\n",
       "      <th>0</th>\n",
       "      <td>2025-01-26</td>\n",
       "      <td>1068</td>\n",
       "      <td>830190</td>\n",
       "      <td>0.0</td>\n",
       "    </tr>\n",
       "  </tbody>\n",
       "</table>\n",
       "<p>1067 rows × 4 columns</p>\n",
       "</div>"
      ],
      "text/plain": [
       "            date   day  personnel    POW\n",
       "1066  2022-02-25     2       2800    0.0\n",
       "1065  2022-02-26     3       4300    0.0\n",
       "1064  2022-02-27     4       4500    0.0\n",
       "1063  2022-02-28     5       5300    0.0\n",
       "1062  2022-03-01     6       5710  200.0\n",
       "...          ...   ...        ...    ...\n",
       "4     2025-01-22  1064     823980    0.0\n",
       "3     2025-01-23  1065     825320    0.0\n",
       "2     2025-01-24  1066     826820    0.0\n",
       "1     2025-01-25  1067     828470    0.0\n",
       "0     2025-01-26  1068     830190    0.0\n",
       "\n",
       "[1067 rows x 4 columns]"
      ]
     },
     "execution_count": 6,
     "metadata": {},
     "output_type": "execute_result"
    }
   ],
   "source": [
    "RPersonelLoss"
   ]
  },
  {
   "cell_type": "code",
   "execution_count": 7,
   "id": "182b2000",
   "metadata": {
    "execution": {
     "iopub.execute_input": "2025-01-31T20:10:18.699601Z",
     "iopub.status.busy": "2025-01-31T20:10:18.698992Z",
     "iopub.status.idle": "2025-01-31T20:10:21.273689Z",
     "shell.execute_reply": "2025-01-31T20:10:21.272553Z"
    },
    "papermill": {
     "duration": 2.581559,
     "end_time": "2025-01-31T20:10:21.275513",
     "exception": false,
     "start_time": "2025-01-31T20:10:18.693954",
     "status": "completed"
    },
    "tags": []
   },
   "outputs": [
    {
     "data": {
      "image/png": "[encoded data removed]",
      "text/plain": [
       "<Figure size 750x750 with 12 Axes>"
      ]
     },
     "metadata": {},
     "output_type": "display_data"
    }
   ],
   "source": [
    "sns.pairplot(RPersonelLoss, vars = ['day', 'personnel', 'POW'])\n",
    "plt.show()"
   ]
  },
  {
   "cell_type": "markdown",
   "id": "884826af",
   "metadata": {
    "papermill": {
     "duration": 0.005005,
     "end_time": "2025-01-31T20:10:21.285899",
     "exception": false,
     "start_time": "2025-01-31T20:10:21.280894",
     "status": "completed"
    },
    "tags": []
   },
   "source": [
    "# Burada sadece gün ve zayiat arasında anlamlı bir ilişki kurabiliyoruz"
   ]
  },
  {
   "cell_type": "code",
   "execution_count": 8,
   "id": "e8b4db35",
   "metadata": {
    "execution": {
     "iopub.execute_input": "2025-01-31T20:10:21.298507Z",
     "iopub.status.busy": "2025-01-31T20:10:21.298111Z",
     "iopub.status.idle": "2025-01-31T20:10:21.514373Z",
     "shell.execute_reply": "2025-01-31T20:10:21.513050Z"
    },
    "papermill": {
     "duration": 0.225665,
     "end_time": "2025-01-31T20:10:21.516959",
     "exception": false,
     "start_time": "2025-01-31T20:10:21.291294",
     "status": "completed"
    },
    "tags": []
   },
   "outputs": [
    {
     "data": {
      "text/plain": [
       "<Axes: xlabel='day', ylabel='personnel'>"
      ]
     },
     "execution_count": 8,
     "metadata": {},
     "output_type": "execute_result"
    },
    {
     "data": {
      "image/png": "[encoded data removed]",
      "text/plain": [
       "<Figure size 640x480 with 1 Axes>"
      ]
     },
     "metadata": {},
     "output_type": "display_data"
    }
   ],
   "source": [
    "sns.lineplot(RPersonelLoss, x='day', y='personnel')"
   ]
  },
  {
   "cell_type": "code",
   "execution_count": 9,
   "id": "1ce55783",
   "metadata": {
    "execution": {
     "iopub.execute_input": "2025-01-31T20:10:21.531642Z",
     "iopub.status.busy": "2025-01-31T20:10:21.531247Z",
     "iopub.status.idle": "2025-01-31T20:10:21.538046Z",
     "shell.execute_reply": "2025-01-31T20:10:21.535905Z"
    },
    "papermill": {
     "duration": 0.017602,
     "end_time": "2025-01-31T20:10:21.541070",
     "exception": false,
     "start_time": "2025-01-31T20:10:21.523468",
     "status": "completed"
    },
    "tags": []
   },
   "outputs": [],
   "source": [
    "x = RPersonelLoss['day']\n",
    "y = RPersonelLoss['personnel']\n",
    "x = x.values.reshape(-1, 1)\n",
    "y = y.values.reshape(-1, 1)"
   ]
  },
  {
   "cell_type": "code",
   "execution_count": 10,
   "id": "1a6d5e01",
   "metadata": {
    "execution": {
     "iopub.execute_input": "2025-01-31T20:10:21.556934Z",
     "iopub.status.busy": "2025-01-31T20:10:21.556401Z",
     "iopub.status.idle": "2025-01-31T20:10:22.245436Z",
     "shell.execute_reply": "2025-01-31T20:10:22.244234Z"
    },
    "papermill": {
     "duration": 0.698619,
     "end_time": "2025-01-31T20:10:22.247329",
     "exception": false,
     "start_time": "2025-01-31T20:10:21.548710",
     "status": "completed"
    },
    "tags": []
   },
   "outputs": [
    {
     "name": "stdout",
     "output_type": "stream",
     "text": [
      "[[1006072.27979683]]\n"
     ]
    }
   ],
   "source": [
    "from sklearn import datasets, linear_model\n",
    "regr = linear_model.LinearRegression()\n",
    "regr.fit(x, y)\n",
    "x_predict = [[1478]]\n",
    "y_predict = regr.predict(x_predict)\n",
    "print(y_predict)"
   ]
  },
  {
   "cell_type": "markdown",
   "id": "d4fb0aed",
   "metadata": {
    "papermill": {
     "duration": 0.005803,
     "end_time": "2025-01-31T20:10:22.259632",
     "exception": false,
     "start_time": "2025-01-31T20:10:22.253829",
     "status": "completed"
    },
    "tags": []
   },
   "source": [
    "# Modelimize göre savaşın 1478'nci günü(12 Mart 2026) Rus ordusunun toplam zayiat sayısı 1.000.000(bir milyon)'u geçecek."
   ]
  },
  {
   "cell_type": "markdown",
   "id": "b5b6445b",
   "metadata": {
    "papermill": {
     "duration": 0.005553,
     "end_time": "2025-01-31T20:10:22.271029",
     "exception": false,
     "start_time": "2025-01-31T20:10:22.265476",
     "status": "completed"
    },
    "tags": []
   },
   "source": [
    "# Modelimizin tutarlı/isabetli olup olmadığını görmek için R^2'sine bakalım."
   ]
  },
  {
   "cell_type": "code",
   "execution_count": 11,
   "id": "90ad1764",
   "metadata": {
    "execution": {
     "iopub.execute_input": "2025-01-31T20:10:22.284112Z",
     "iopub.status.busy": "2025-01-31T20:10:22.283676Z",
     "iopub.status.idle": "2025-01-31T20:10:22.290453Z",
     "shell.execute_reply": "2025-01-31T20:10:22.289069Z"
    },
    "papermill": {
     "duration": 0.015449,
     "end_time": "2025-01-31T20:10:22.292295",
     "exception": false,
     "start_time": "2025-01-31T20:10:22.276846",
     "status": "completed"
    },
    "tags": []
   },
   "outputs": [
    {
     "name": "stdout",
     "output_type": "stream",
     "text": [
      "0.9553734754209622\n"
     ]
    }
   ],
   "source": [
    "from sklearn.metrics import r2_score\n",
    "r_squared = regr.score(x, y)\n",
    "print(r_squared)"
   ]
  },
  {
   "cell_type": "markdown",
   "id": "8493a61e",
   "metadata": {
    "papermill": {
     "duration": 0.006188,
     "end_time": "2025-01-31T20:10:22.305224",
     "exception": false,
     "start_time": "2025-01-31T20:10:22.299036",
     "status": "completed"
    },
    "tags": []
   },
   "source": [
    "# Modelimizin R^2'i 0.95 çıktı. Yani modelimizin tutarlı/isabetli olduğunu söyleyebiliriz."
   ]
  }
 ],
 "metadata": {
  "kaggle": {
   "accelerator": "none",
   "dataSources": [
    {
     "databundleVersionId": 10920517,
     "datasetId": 1967621,
     "sourceId": 10584846,
     "sourceType": "datasetVersion"
    }
   ],
   "dockerImageVersionId": 30839,
   "isGpuEnabled": false,
   "isInternetEnabled": false,
   "language": "python",
   "sourceType": "notebook"
  },
  "kernelspec": {
   "display_name": "Python 3",
   "language": "python",
   "name": "python3"
  },
  "language_info": {
   "codemirror_mode": {
    "name": "ipython",
    "version": 3
   },
   "file_extension": ".py",
   "mimetype": "text/x-python",
   "name": "python",
   "nbconvert_exporter": "python",
   "pygments_lexer": "ipython3",
   "version": "3.10.12"
  },
  "papermill": {
   "default_parameters": {},
   "duration": 10.466261,
   "end_time": "2025-01-31T20:10:23.133504",
   "environment_variables": {},
   "exception": null,
   "input_path": "__notebook__.ipynb",
   "output_path": "__notebook__.ipynb",
   "parameters": {},
   "start_time": "2025-01-31T20:10:12.667243",
   "version": "2.6.0"
  }
 },
 "nbformat": 4,
 "nbformat_minor": 5
}
